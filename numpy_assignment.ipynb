{
 "cells": [
  {
   "cell_type": "code",
   "execution_count": 2,
   "id": "d9a6f4e1-a82d-436b-a3a3-01be4af1ea09",
   "metadata": {},
   "outputs": [],
   "source": [
    "import numpy as np\n"
   ]
  },
  {
   "cell_type": "code",
   "execution_count": 3,
   "id": "1bb5572f-13dc-461c-9f9e-e9bf16f13ac6",
   "metadata": {},
   "outputs": [],
   "source": [
    "list_ = ['1', '2' , '3', '4' , '5']\n"
   ]
  },
  {
   "cell_type": "code",
   "execution_count": 4,
   "id": "6e4ced9a-1965-42f3-92ae-139258bcfd58",
   "metadata": {},
   "outputs": [],
   "source": [
    "array_list = np.array(object = list_)"
   ]
  },
  {
   "cell_type": "code",
   "execution_count": 5,
   "id": "467912b1-cdf8-47db-94d2-6ec189ab1aba",
   "metadata": {},
   "outputs": [
    {
     "data": {
      "text/plain": [
       "array(['1', '2', '3', '4', '5'], dtype='<U1')"
      ]
     },
     "execution_count": 5,
     "metadata": {},
     "output_type": "execute_result"
    }
   ],
   "source": [
    "array_list"
   ]
  },
  {
   "cell_type": "markdown",
   "id": "9010ed23-4b64-4f2a-91d7-19e11a88c82b",
   "metadata": {},
   "source": [
    "Q1. Is there any difference in the data type of variables list_ and array_list? If there is then write a code\n",
    "to print the data types of both the variables.\n",
    "Ans- Yes,there is difference in the data type of variables list_ and array_list.\n"
   ]
  },
  {
   "cell_type": "code",
   "execution_count": 7,
   "id": "37d66673-8238-4ad9-8d35-29cf46be0d02",
   "metadata": {},
   "outputs": [
    {
     "data": {
      "text/plain": [
       "dtype('<U1')"
      ]
     },
     "execution_count": 7,
     "metadata": {},
     "output_type": "execute_result"
    }
   ],
   "source": [
    "'''Code for question1'''  #for array_list\n",
    "array_list.dtype        #dtype function tell the data type of array\n"
   ]
  },
  {
   "cell_type": "code",
   "execution_count": 8,
   "id": "213c8ffe-55d6-4350-b9ef-6442e562fb6e",
   "metadata": {},
   "outputs": [
    {
     "data": {
      "text/plain": [
       "str"
      ]
     },
     "execution_count": 8,
     "metadata": {},
     "output_type": "execute_result"
    }
   ],
   "source": [
    "'''Code for question1''' #for list_\n",
    "\n",
    "type(list_[0])"
   ]
  },
  {
   "cell_type": "code",
   "execution_count": 10,
   "id": "cb12ebfd-d64d-42b6-96b8-84e44501e354",
   "metadata": {},
   "outputs": [
    {
     "name": "stdout",
     "output_type": "stream",
     "text": [
      "<class 'str'>\n",
      "<class 'str'>\n",
      "<class 'str'>\n",
      "<class 'str'>\n",
      "<class 'str'>\n"
     ]
    }
   ],
   "source": [
    "'''Q2. Write a code to print the data type of each and every element of both the variables list_ and\n",
    "array_list.'''\n",
    "#Ans-\n",
    "\n",
    "'''Code for printing the type of each data of List_'''\n",
    "for i in range(len(list_)):\n",
    "    print(type(list_[i]))"
   ]
  },
  {
   "cell_type": "code",
   "execution_count": 23,
   "id": "176fbefe-7f2e-44f5-bc65-2b3ccdf322c6",
   "metadata": {},
   "outputs": [
    {
     "name": "stdout",
     "output_type": "stream",
     "text": [
      "<U1\n",
      "<U1\n",
      "<U1\n",
      "<U1\n",
      "<U1\n"
     ]
    }
   ],
   "source": [
    "'''Code for printing the type of each data of array_list'''\n",
    "length=np.size(array_list)   #size function is usded to get the length of array\n",
    "for i in range(length):\n",
    "    print(array_list[i].dtype)"
   ]
  },
  {
   "cell_type": "markdown",
   "id": "46dd60c3-dcd5-437c-9693-e68628027707",
   "metadata": {},
   "source": [
    "Q3. Considering the following changes in the variable, array_list:\n",
    "    \n",
    "array_list = np.array(object = list_, dtype = int)\n",
    "\n",
    "Will there be any difference in the data type of the elements present in both the variables, list_ and\n",
    "arra_list? If so then print the data types of each and every element present in both the variables, list_\n",
    "and arra_list."
   ]
  },
  {
   "cell_type": "code",
   "execution_count": 25,
   "id": "8a77df80-dbab-4876-bcd0-0d27fdc8832f",
   "metadata": {},
   "outputs": [],
   "source": [
    "array_list = np.array(object = list_, dtype = int)"
   ]
  },
  {
   "cell_type": "code",
   "execution_count": 28,
   "id": "1f15fb6d-f020-441c-8a45-7baf83ca7ce8",
   "metadata": {},
   "outputs": [
    {
     "data": {
      "text/plain": [
       "array([1, 2, 3, 4, 5])"
      ]
     },
     "execution_count": 28,
     "metadata": {},
     "output_type": "execute_result"
    }
   ],
   "source": [
    "array_list"
   ]
  },
  {
   "cell_type": "code",
   "execution_count": null,
   "id": "e0facb59-b2d8-4dfc-8282-8cf2b853510f",
   "metadata": {},
   "outputs": [],
   "source": [
    "'''Ans Question(3)'''\n",
    "Yes,the data type are changed in the array_list and data type of the list_ will not be changed\n"
   ]
  },
  {
   "cell_type": "code",
   "execution_count": 29,
   "id": "febe0c94-2fb7-415f-b0d1-1abf1e9d99e6",
   "metadata": {},
   "outputs": [
    {
     "name": "stdout",
     "output_type": "stream",
     "text": [
      "<class 'str'>\n",
      "<class 'str'>\n",
      "<class 'str'>\n",
      "<class 'str'>\n",
      "<class 'str'>\n"
     ]
    }
   ],
   "source": [
    "'''Code for Question(3) to check whether data type are changed or not for list_'''\n",
    "for i in range(len(list_)):\n",
    "    print(type(list_[i]))"
   ]
  },
  {
   "cell_type": "code",
   "execution_count": 30,
   "id": "f30daf24-b2ef-4fb2-97a4-ccfc0e491c5b",
   "metadata": {},
   "outputs": [
    {
     "name": "stdout",
     "output_type": "stream",
     "text": [
      "int64\n",
      "int64\n",
      "int64\n",
      "int64\n",
      "int64\n"
     ]
    }
   ],
   "source": [
    "'''Code for Question(3) to check whether data type are changed or not for array_list'''\n",
    "length=np.size(array_list)\n",
    "for i in range(length):\n",
    "    print(array_list[i].dtype)"
   ]
  },
  {
   "cell_type": "code",
   "execution_count": 31,
   "id": "d013ef9a-4d0e-4227-b3d3-ff92a532229a",
   "metadata": {},
   "outputs": [],
   "source": [
    "num_list = [ [ 1 , 2 , 3 ] , [ 4 , 5 , 6 ] ]\n",
    "num_array = np.array(object = num_list)"
   ]
  },
  {
   "cell_type": "code",
   "execution_count": null,
   "id": "b13cc3c3-9ced-4b88-bc13-1e0ee5b460db",
   "metadata": {},
   "outputs": [],
   "source": [
    "Q4. Write a code to find the following characteristics of variable, num_array:\n",
    "(i) shape\n",
    "(ii) size\n"
   ]
  },
  {
   "cell_type": "code",
   "execution_count": 33,
   "id": "090ace2f-809a-4e95-a166-75c3c48468e2",
   "metadata": {},
   "outputs": [
    {
     "data": {
      "text/plain": [
       "(2, 3)"
      ]
     },
     "execution_count": 33,
     "metadata": {},
     "output_type": "execute_result"
    }
   ],
   "source": [
    "'''Code for Question(4) '''   \n",
    "#(i).shape\n",
    "np.shape(num_array)     #"
   ]
  },
  {
   "cell_type": "code",
   "execution_count": 34,
   "id": "4ccdb647-8760-4faf-aa34-e041ac1592f0",
   "metadata": {},
   "outputs": [
    {
     "data": {
      "text/plain": [
       "6"
      ]
     },
     "execution_count": 34,
     "metadata": {},
     "output_type": "execute_result"
    }
   ],
   "source": [
    "'''Code for Question(4)'''\n",
    "#(ii) size\n",
    "np.size(num_array)\n"
   ]
  },
  {
   "cell_type": "markdown",
   "id": "207bb505-4339-43db-b111-3858e7ba47cd",
   "metadata": {},
   "source": [
    "Q5. Write a code to create numpy array of 3*3 matrix containing zeros only, using a numpy array\n",
    "creation function.\n",
    "[Hint: The size of the array will be 9 and the shape will be (3,3).]"
   ]
  },
  {
   "cell_type": "code",
   "execution_count": 35,
   "id": "1a0ad6dd-6f93-4137-9235-15d7a4eedd27",
   "metadata": {},
   "outputs": [
    {
     "data": {
      "text/plain": [
       "array([[0., 0., 0.],\n",
       "       [0., 0., 0.],\n",
       "       [0., 0., 0.]])"
      ]
     },
     "execution_count": 35,
     "metadata": {},
     "output_type": "execute_result"
    }
   ],
   "source": [
    "'''code for Question(4) for creating numpy array of 3*3'''\n",
    "np.zeros((3,3))   #This function create zero matrix and (3,3) is passed as order of matrix"
   ]
  },
  {
   "cell_type": "markdown",
   "id": "a49bec8a-c31e-4407-bfd0-8e878359f8cb",
   "metadata": {},
   "source": [
    "Q6. Create an identity matrix of shape (5,5) using numpy functions?\n",
    "[Hint: An identity matrix is a matrix containing 1 diagonally and other elements will be 0.]"
   ]
  },
  {
   "cell_type": "code",
   "execution_count": 36,
   "id": "e1b1b903-4531-487a-8955-18aaa0adf56c",
   "metadata": {},
   "outputs": [
    {
     "data": {
      "text/plain": [
       "array([[1., 0., 0., 0., 0.],\n",
       "       [0., 1., 0., 0., 0.],\n",
       "       [0., 0., 1., 0., 0.],\n",
       "       [0., 0., 0., 1., 0.],\n",
       "       [0., 0., 0., 0., 1.]])"
      ]
     },
     "execution_count": 36,
     "metadata": {},
     "output_type": "execute_result"
    }
   ],
   "source": [
    "'''Ans for Question(6)'''\n",
    "np.eye(5)  #this function is used to create identity matrix  and 5 has been passed as order of matrix"
   ]
  },
  {
   "cell_type": "code",
   "execution_count": null,
   "id": "1bf9a54f-c35f-48e6-8652-7bc0d90b0146",
   "metadata": {},
   "outputs": [],
   "source": []
  }
 ],
 "metadata": {
  "kernelspec": {
   "display_name": "Python 3 (ipykernel)",
   "language": "python",
   "name": "python3"
  },
  "language_info": {
   "codemirror_mode": {
    "name": "ipython",
    "version": 3
   },
   "file_extension": ".py",
   "mimetype": "text/x-python",
   "name": "python",
   "nbconvert_exporter": "python",
   "pygments_lexer": "ipython3",
   "version": "3.10.8"
  }
 },
 "nbformat": 4,
 "nbformat_minor": 5
}
